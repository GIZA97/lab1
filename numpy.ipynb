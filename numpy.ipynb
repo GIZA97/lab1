{
  "cells": [
    {
      "cell_type": "markdown",
      "metadata": {
        "id": "vC84e9kzyxPy"
      },
      "source": [
        "<h1>Импорт библиотек"
      ]
    },
    {
      "cell_type": "code",
      "execution_count": 3,
      "metadata": {
        "id": "cgKeNegmQG5S"
      },
      "outputs": [],
      "source": [
        "import numpy as np\n",
        "import matplotlib.pyplot as plt"
      ]
    },
    {
      "cell_type": "markdown",
      "metadata": {
        "id": "qFM9uVU2x4Ls"
      },
      "source": [
        "<h1>Задача 1. Дан набор из $p$ матриц размерностью $(n, n)$ и $p$ векторов размерностью $(n, 1)$, найти сумму произведений матриц на векторы. Написать тесты для кода"
      ]
    },
    {
      "cell_type": "code",
      "execution_count": null,
      "metadata": {
        "id": "IAbUvEiYyWFF"
      },
      "outputs": [],
      "source": [
        "import numpy as np\n",
        "import unittest\n",
        "# Находим сумму произведний матриц на векторы\n",
        "def sum_prod(X, V):\n",
        "    m = 0\n",
        "    suma = 0\n",
        "    for i in range(len(X)):\n",
        "        m = np.dot(X[i], V[i])\n",
        "        suma += m\n",
        "    return suma\n",
        "\n",
        "\n",
        "\n",
        "\n",
        "class Test(unittest.TestCase):\n",
        "\n",
        "    def test1(self):\n",
        "        m1 = np.array([[4, 5, 2], [5, 2, 1], [5, 7, 2]])\n",
        "        m2 = np.array([[2, 6, 3], [3, 4, 5], [7, 3, 5]])\n",
        "        matrixes = [m1, m2]\n",
        "        v1 = np.array([1, 6, 4])\n",
        "        v2 = np.array([3, 8, 7])\n",
        "        vectors = [v1, v2]\n",
        "        result = np.array([117, 97, 135])\n",
        "        r = sum_prod(matrixes, vectors)\n",
        "        self.assertTrue(np.array_equal(r, result))\n",
        "\n",
        "    def test2(self):\n",
        "        m1 = np.array([[9, 7, 4], [1, 8, 5], [1, 1, 6]])\n",
        "        m2 = np.array([[7, 8, 9], [2, 3, 5], [0, 8, 3]])\n",
        "        matrixes = [m1, m2]\n",
        "        v1 = np.array([5, 4, 1])\n",
        "        v2 = np.array([6, 8, 2])\n",
        "        vectors = [v1, v2]\n",
        "        result = np.array([201, 88, 85])\n",
        "        r = sum_prod(matrixes, vectors)\n",
        "        self.assertTrue(np.array_equal(r, result))\n",
        "    def test3(self):\n",
        "        m1 = np.array([[4, 5, 1], [3, 4, 3], [3, 4, 5]])\n",
        "        m2 = np.array([[6, 3, 2], [2, 3, 4], [8, 7, 6]])\n",
        "        matrixes = [m1, m2]\n",
        "        v1 = np.array([6, 2, 3])\n",
        "        v2 = np.array([8, 6, 4])\n",
        "        vectors = [v1, v2]\n",
        "        result = np.array([111, 85, 171])\n",
        "        r = sum_prod(matrixes, vectors)\n",
        "        self.assertTrue(np.array_equal(r, result))       \n",
        "if __name__ == '__main__':\n",
        "    unittest.main()"
      ]
    },
    {
      "cell_type": "markdown",
      "metadata": {
        "id": "TKwPG4fIy2w4"
      },
      "source": [
        "<h1>Задача 2. Дана матрица M, напишите функцию, которая бинаризует матрицу по некоторому threshold (то есть, все значения большие threshold становятся равными 1, иначе 0). Напишите тесты для кода"
      ]
    },
    {
      "cell_type": "code",
      "execution_count": null,
      "metadata": {
        "id": "KQDNMgsjRNH7"
      },
      "outputs": [],
      "source": [
        "import numpy as np\n",
        "import unittest\n",
        "# Бинаризируем матрицу\n",
        "def binarize(M, threshold=0.5):\n",
        "    for i in range(len(M[:, 0])):\n",
        "        for j in range(len(M[0, :])):\n",
        "            if M[i, j] > threshold:\n",
        "                M[i, j] = 1\n",
        "            else:\n",
        "                M[i, j] = 0\n",
        "    return M\n",
        "\n",
        "class Test(unittest.TestCase):\n",
        "    def test1(self):\n",
        "        m = np.array([[8, 6, 4], [4, 6, 8], [2, 3, 5]])\n",
        "        bini = binarize(m)\n",
        "        result = np.array([[1, 1, 1], [1, 1, 1], [1, 1, 1]])\n",
        "        self.assertTrue(np.array_equal(bini, result))\n",
        "    def test2(self):\n",
        "        m = np.array([[5, 7, 2], [4, 3, 1]])\n",
        "        bini = binarize(m)\n",
        "        result = np.array([[1, 1, 1], [1, 1, 1]])\n",
        "        self.assertTrue(np.array_equal(bini, result))  \n",
        "    def test3(self):\n",
        "        m = np.array([[7, 1, 6], [2, 5, 8]])\n",
        "        bini = binarize(m, 2)\n",
        "        result = np.array([[1, 0, 1], [0, 1, 1]])\n",
        "        self.assertTrue(np.array_equal(bini, result))\n",
        "\n",
        "if __name__ == '__main__':\n",
        "    unittest.main()\n"
      ]
    },
    {
      "cell_type": "markdown",
      "metadata": {
        "id": "IY5L-h-7zWhN"
      },
      "source": [
        "<h1>Задача 3. Напишите функцию, которая возвращает уникальные элементы из каждой строки матрицы. Напишите такую же функцию, но для столбцов. Напишите тесты для кода"
      ]
    },
    {
      "cell_type": "code",
      "execution_count": null,
      "metadata": {
        "id": "-8dEZhR0SBC-"
      },
      "outputs": [],
      "source": [
        "\n",
        "import numpy as np\n",
        "import unittest\n",
        "\n",
        "mat = np.array([[2, 3, 2], [7, 6, 3], [2, 7, 2], [3, 3, 2]])\n",
        "\n",
        "def unique_rows(mat):\n",
        "    row_list = []\n",
        "    for i in range(len(mat)):\n",
        "        row_list.append(list(mat[i, :]))\n",
        "    spicok = []\n",
        "    # Добавляем в список spicok уникальные элементы из строк матрицы\n",
        "    for i in range(len(row_list)):\n",
        "        spicok.append(list(set(row_list[i])))\n",
        "    # Выводим уникальные числа в строке\n",
        "    for i in range(len(spicok)):\n",
        "        print('Уникальные числа в ' + str(i + 1) +' строке: ' + ' '.join(map(str, spicok[i])))\n",
        "\n",
        "def unique_columns(mat):\n",
        "    columns_list = []\n",
        "    for i in range(len(mat[0, :])):\n",
        "        columns_list.append(list(mat[:, i]))\n",
        "    spicok = []\n",
        "    # Добавляем в список spicok уникальные элементы из столбцов матрицы\n",
        "    for i in range(len(columns_list)):\n",
        "        spicok.append(list(set(columns_list[i])))\n",
        "    # Выводим уникальные числа в столбце\n",
        "    for i in range(len(spicok)):\n",
        "        print('Уникальные числа в ' + str(i + 1) +' столбце: ' + ' '.join(map(str, spicok[i])))   \n",
        "        \n",
        "unique_rows(mat)\n",
        "unique_columns(mat)"
      ]
    },
    {
      "cell_type": "markdown",
      "metadata": {
        "id": "roYAlo4Jz-lH"
      },
      "source": [
        "<h1>Задача 4. Напишите функцию, которая заполняет матрицу с размерами $(m, n)$ случайными числами, распределенными по нормальному закону. Затем считает мат. ожидание и дисперсию для каждого из столбцов и строк, а также строит для каждой строки и столбца гистограмму значений (использовать функцию hist из модуля matplotlib.plot)"
      ]
    },
    {
      "cell_type": "code",
      "execution_count": null,
      "metadata": {
        "id": "nZK_71hMSQzv"
      },
      "outputs": [],
      "source": [
        "import matplotlib.pyplot as plt\n",
        "import numpy as np\n",
        "\n",
        "# Заполненяем матрицу случайными числами, распределенными по нормальному закону, где sred - среднее значение, stand - стандартное отклонение\n",
        "\n",
        "def mat_normal(i, j, sred=0, stand=1):\n",
        "    mat = np.random.normal(sred, stand, (i, j))\n",
        "    return mat\n",
        "\n",
        "def mat_waiting(mat):\n",
        "    # Мат. ожидания для строк \n",
        "    row = [float(np.mean(mat[:, i])) for i in range(len(mat[0, :]))]\n",
        "    # Мат. ожидания для столбцов \n",
        "    columns = [float(np.mean(mat[i, :])) for i in range(len(mat[:, 0]))]\n",
        "    return row, columns\n",
        "\n",
        "def dispersed(matrix):\n",
        "    # Дисперсия для строк \n",
        "    row = [float(np.var(matrix[:, i])) for i in range(len(matrix[0, :]))]\n",
        "    # Дисперсия для столбцов\n",
        "    colums = [float(np.var(matrix[i, :])) for i in range(len(matrix[:, 0]))]\n",
        "    return row, colums\n",
        "\n",
        "def plot_histograms(matrix):\n",
        "    rows, colums = matrix.shape\n",
        "    \n",
        "    # Построение гистограмм для строк\n",
        "    plt.figure(figsize=(10, 10))\n",
        "    for i in range(rows):\n",
        "        plt.subplot(rows, 2, 2*i+1) \n",
        "        plt.hist(matrix[i, :], bins=10, color='skyblue', edgecolor='black')\n",
        "        plt.title(f'Строка {i+1}')\n",
        "        plt.ylim(0, 4)\n",
        "    # Построение гистограмм для столбцов\n",
        "    for j in range(colums):\n",
        "        plt.subplot(rows, 2, 2*(j)+2)\n",
        "        plt.hist(matrix[:, j], bins=10, color='lightgreen', edgecolor='black')\n",
        "        plt.title(f'Столбец {j+1}')\n",
        "        plt.ylim(0, 4)\n",
        "    plt.tight_layout()\n",
        "    plt.show()\n",
        "\n",
        "matrix = mat_normal(5, 2)\n",
        "plot_histograms(matrix)"
      ]
    },
    {
      "cell_type": "markdown",
      "metadata": {
        "id": "BDyATNdM0dJ2"
      },
      "source": [
        "<h1>Задача 5. Напишите функцию, которая заполняет матрицу $(m, n)$ в шахматном порядке заданными числами $a$ и $b$. Напишите тесты для кода"
      ]
    },
    {
      "cell_type": "code",
      "execution_count": null,
      "metadata": {
        "id": "RWNJYWQGecS6"
      },
      "outputs": [],
      "source": [
        "\n",
        "import numpy as np\n",
        "import unittest\n",
        "\n",
        "def chess(m: int, n: int, a=1, b=0):\n",
        "    # Создаем матрицу из единиц размером m на n\n",
        "    mat_one = np.ones((m, n))\n",
        "    for i in range(len(mat_one[:, 0])):\n",
        "        for j in range(len(mat_one[0, :])):\n",
        "            # Проверка на четность ширины матрицы\n",
        "            if len(mat_one[0,:]) % 2 == 0:\n",
        "                # Проверка условия по индексам матрицы\n",
        "                if i % 2 == 0 and j % 2 == 0: \n",
        "                    mat_one[i, j] = a\n",
        "                elif i % 2 == 0 and j % 2 != 0:\n",
        "                    mat_one[i, j] = b\n",
        "                elif i % 2 != 0 and j % 2 == 0:\n",
        "                    mat_one[i, j] = b\n",
        "                else:\n",
        "                    mat_one[i, j] = a\n",
        "            else:\n",
        "                if i % 2 == 0 and j % 2 == 0:\n",
        "                    mat_one[i, j] = b\n",
        "                elif i % 2 == 0 and j % 2!= 0:\n",
        "                    mat_one[i, j] = a\n",
        "                elif i % 2!= 0 and j % 2 == 0:\n",
        "                    mat_one[i, j] = a\n",
        "                else:\n",
        "                    mat_one[i, j] = b\n",
        "\n",
        "    return mat_one\n",
        "\n",
        "class Test(unittest.TestCase):\n",
        "    def test(self):\n",
        "        self.assertTrue(np.array_equal(chess(3, 4), np.array([[1, 0, 1, 0], [0, 1, 0, 1], [1, 0, 1, 0]])))\n",
        "        self.assertTrue(np.array_equal(chess(3, 3), np.array([[0, 1, 0], [1, 0, 1], [0, 1, 0]])))\n",
        "        self.assertTrue(np.array_equal(chess(3, 4, 2, 0), np.array([[2, 0, 2, 0], [0, 2, 0, 2], [2, 0, 2, 0]])))\n",
        "        self.assertTrue(np.array_equal(chess(3, 3, 2, 0), np.array([[0, 2, 0], [2, 0, 2], [0, 2, 0]])))\n",
        "        self.assertTrue(np.array_equal(chess(3, 3, 0, 0), np.array([[0, 0, 0], [0, 0, 0], [0, 0, 0]])))\n",
        "\n",
        "if __name__ == '__main__':\n",
        "    unittest.main()"
      ]
    },
    {
      "cell_type": "markdown",
      "metadata": {
        "id": "-ymXLtTN0vB6"
      },
      "source": [
        "<h1>Задача 6. Напишите функцию, которая отрисовывает прямоугольник с заданными размерами (a, b) на изображении размера (m, n), цвет фона задайте в схеме RGB, как и цвет прямоугольника. Цвета также должны быть параметрами функции. Напишите аналогичную функцию но для овала с полуосями a и b. Напишите тесты для кода.\n",
        "Примечание: уравнение эллипса (границы овала) можно записать как:\n",
        "<h1>$\\frac{(x-x_0)^2}{a^2}+\\frac{(y-y_0)^2}{b^2}=1$"
      ]
    },
    {
      "cell_type": "code",
      "execution_count": 1,
      "metadata": {
        "id": "sNfl1t_kfOF4"
      },
      "outputs": [],
      "source": [
        "import numpy as np\n",
        "import matplotlib.pyplot as plt\n",
        "\n",
        "def draw_rectangle(a, b, m, n, rectangle_color, background_color):\n",
        "    # Создаем изображение с фоновым цветом\n",
        "    image = np.ones((m, n, 3), dtype=np.uint8)\n",
        "    image[:, :] = background_color  \n",
        "    # Рассчитаем координаты для прямоугольника\n",
        "    x = (n - a) // 2  \n",
        "    y = (m - b) // 2  \n",
        "    # Рисуем прямоугольник\n",
        "    image[y:y + b, x:x + a] = rectangle_color\n",
        "    # Отображаем изображение\n",
        "    plt.imshow(image)\n",
        "    plt.axis('off')  \n",
        "    plt.show()\n",
        "\n",
        "def draw_ellipse(a, b, m, n, ellipse_color, background_color):\n",
        "    # Аналогично\n",
        "    image = np.ones((m, n, 3), dtype=np.uint8)\n",
        "    image[:, :] = background_color  \n",
        "    x0 = n // 2\n",
        "    y0 = m // 2\n",
        "    # Создание сетки координат\n",
        "    y, x = np.ogrid[:m, :n]   \n",
        "    # Уравнение эллипса\n",
        "    el = ((x - x0)**2 / a**2 + (y - y0)**2 / b**2) <= 1\n",
        "    # Применяем цвет эллипса\n",
        "    image[el] = ellipse_color\n",
        "    # Отображаем изображение\n",
        "    plt.imshow(image)\n",
        "    plt.axis('off')  # Отключаем оси\n",
        "    plt.show()\n",
        "\n",
        "if __name__ == \"__main__\":\n",
        "    draw_rectangle(50, 100, 200, 300, rectangle_color=(0, 0, 0), background_color=(255, 255, 255))\n",
        "    draw_ellipse(50, 100, 200, 300, ellipse_color=(0, 0, 255), background_color=(255, 255, 255))"
      ]
    },
    {
      "cell_type": "markdown",
      "metadata": {
        "id": "S82c38oz244H"
      },
      "source": [
        "<h1>Задача 7. Дан некий временной ряд. Для данного ряда нужно найти его: математическое ожидание, дисперсию, СКО, найти все локальные максимумы и минимумы (локальный максимум - это точка, которая больше своих соседних точек, а локальный минимум - это точка, которая меньше своих соседей), а также вычислить для данного ряда другой ряд, получаемый методом скользящего среднего с размером окна $p$.\n",
        "<h1>Примечание: метод скользящего среднего подразумевает нахождение среднего из подмножетсва ряда размером $p$"
      ]
    },
    {
      "cell_type": "code",
      "execution_count": null,
      "metadata": {
        "id": "Zb9mIVge5MMt"
      },
      "outputs": [],
      "source": [
        "import numpy as np\n",
        "\n",
        "def F(n):\n",
        "    # Вычисление математического ожидания, дисперсии и СКО\n",
        "    mat_wait = np.mean(n) \n",
        "    disper = np.var(n) \n",
        "    sko = np.std(n) #СКО\n",
        "    \n",
        "    return mat_wait, disper, sko\n",
        "\n",
        "def local_extrem(n):\n",
        "    local_max = []\n",
        "    local_min = []\n",
        "    # Проверка на локальные максимумы и минимумы\n",
        "    for i in range(1, len(n) - 1):      \n",
        "        if n[i] > n[i - 1] and n[i] > n[i + 1]:\n",
        "            local_max.append(i)\n",
        "        if n[i] < n[i - 1] and n[i] < n[i + 1]:\n",
        "            local_min.append(i)\n",
        "    \n",
        "    return local_max, local_min\n",
        "\n",
        "# Cкользящеt среднее\n",
        "def sred(n, p):\n",
        "    avearge = np.convolve(n, np.ones(p)/p, mode='valid')\n",
        "    return avearge\n",
        "\n",
        "spicok = [4, 5, 2, 7, 4, 1]\n",
        "mat_wait, desper, sko = F(spicok)\n",
        "print(f\"Математическое ожидание: {mat_wait}\")\n",
        "print(f\"Дисперсия: {desper}\")\n",
        "print(f\"СКО: {sko}\")\n",
        "local_max, local_min = local_extrem(spicok)\n",
        "print(f\"Локальные максимумы: {local_max}\")\n",
        "print(f\"Локальные минимумы: {local_min}\")\n",
        "p = 10\n",
        "sredni = sred(spicok, p)\n",
        "print(f\"Скользящее среднее (p={p}): {sredni}\")"
      ]
    },
    {
      "cell_type": "markdown",
      "metadata": {
        "id": "jPkylmOX5O9n"
      },
      "source": [
        "<h1> Задача 8. Дан некоторый вектор с целочисленными метками классов, напишите функцию, которая выполняет one-hot-encoding для данного вектора\n",
        "<h1> One-hot-encoding - представление, в котором на месте метки некоторого класса стоит 1, в остальных позициях стоит 0. Например для вектора [0, 2, 3, 0] one-hot-encoding выглядит как: [[1, 0, 0, 0], [0, 0, 1, 0], [0, 0, 0, 1], [1, 0, 0, 0]]"
      ]
    },
    {
      "cell_type": "code",
      "execution_count": null,
      "metadata": {
        "id": "Y-jlnZvw56lD"
      },
      "outputs": [],
      "source": [
        "import numpy as np\n",
        "\n",
        "def Unic(n):\n",
        "    # Находим количество уникальных классов \n",
        "    num_classes = np.max(n) + 1\n",
        "    \n",
        "    # Создаем двумерный массив с нулями и заполняем его one-hot представлением\n",
        "    one_hot = np.zeros((len(n), num_classes), dtype=int)\n",
        "    \n",
        "    # Проставляем 1 в соответствующих позициях\n",
        "    for i, j in enumerate(n):\n",
        "        one_hot[i, j] = 1\n",
        "    \n",
        "    return one_hot\n",
        "\n",
        "print( Unic([1, 6, 3, 2]))\n",
        "     "
      ]
    }
  ],
  "metadata": {
    "colab": {
      "provenance": []
    },
    "kernelspec": {
      "display_name": "Python 3",
      "name": "python3"
    },
    "language_info": {
      "name": "python"
    }
  },
  "nbformat": 4,
  "nbformat_minor": 0
}
