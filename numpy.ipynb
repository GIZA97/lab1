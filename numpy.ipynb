{
 "cells": [
  {
   "cell_type": "markdown",
   "metadata": {
    "id": "vC84e9kzyxPy"
   },
   "source": [
    "<h1>Импорт библиотек"
   ]
  },
  {
   "cell_type": "code",
   "execution_count": 1,
   "metadata": {
    "id": "cgKeNegmQG5S"
   },
   "outputs": [],
   "source": [
    "import numpy as np\n",
    "import matplotlib.pyplot as plt"
   ]
  },
  {
   "cell_type": "markdown",
   "metadata": {
    "id": "qFM9uVU2x4Ls"
   },
   "source": [
    "<h1>Задача 1. Дан набор из $p$ матриц размерностью $(n, n)$ и $p$ векторов размерностью $(n, 1)$, найти сумму произведений матриц на векторы. Написать тесты для кода"
   ]
  },
  {
   "cell_type": "code",
   "execution_count": 6,
   "metadata": {
    "id": "IAbUvEiYyWFF"
   },
   "outputs": [
    {
     "name": "stderr",
     "output_type": "stream",
     "text": [
      "......\n",
      "----------------------------------------------------------------------\n",
      "Ran 6 tests in 0.014s\n",
      "\n",
      "OK\n"
     ]
    }
   ],
   "source": [
    "import numpy as np\n",
    "import unittest\n",
    "\n",
    "def sum_prod(X, V):\n",
    "    for i in range(len(X)):\n",
    "        if len(X[i]) != len(V[i]):\n",
    "            return 'Длины не равны'\n",
    "    multiply = 0\n",
    "    sum_multiply = 0\n",
    "    for i in range(len(X)):\n",
    "        multiply = np.dot(X[i], V[i])\n",
    "        sum_multiply += multiply\n",
    "    return sum_multiply\n",
    "\n",
    "class TestClass(unittest.TestCase):\n",
    "    #Тест на обычных случайных матрицах\n",
    "    def test_sum_prod(self):\n",
    "        matrix_1 = np.array([[1, 2, 3], [3, 4, 5], [6, 7, 8]])\n",
    "        matrix_2 = np.array([[2, 7, 8], [9, 4, 2], [1, 5, 8]])\n",
    "        array_matrixes = [matrix_1, matrix_2]\n",
    "\n",
    "        vector_1 = np.array([1, 2, 3])\n",
    "        vector_2 = np.array([4, 5, 6])\n",
    "        array_vectors = [vector_1, vector_2]\n",
    "        expected_result = np.array([105, 94, 121])\n",
    "        result = sum_prod(array_matrixes, array_vectors)\n",
    "        # Специальная функция np.array_equal для сравнения массивов \n",
    "        # (через == нельзя сравнивать матрицы из библеотеки numpy)\n",
    "        self.assertTrue(np.array_equal(result, expected_result))\n",
    "\n",
    "    #Тест на единичных матрицах\n",
    "    def test_sum_ones_matrix_equal(self):\n",
    "        matrix_1 = np.array([[1, 0, 0], [0, 1, 0], [0, 0, 1]])\n",
    "        matrix_2 = np.array([[1, 0, 0], [0, 1, 0], [0, 0, 1]])\n",
    "        array_matrixes = [matrix_1, matrix_2]\n",
    "        \n",
    "        vector_1 = np.array([0, 0 , 0])\n",
    "        vector_2 = np.array([4, 5, 6])\n",
    "        array_vectors = [vector_1, vector_2]\n",
    "\n",
    "        expected_result = np.array([4, 5, 6])\n",
    "        result = sum_prod(array_matrixes, array_vectors)\n",
    "        self.assertTrue(np.array_equal(result, expected_result))\n",
    "    def test_when_len_not_coincide(self):\n",
    "        matrix_1 = np.array([[1, 0, 0], [0, 1, 0], [0, 0, 1]])\n",
    "        matrix_2 = np.array([[1, 0, 0], [0, 1, 0], [0, 0, 1]])\n",
    "        array_matrixes = [matrix_1, matrix_2]\n",
    "        vector_1 = np.array([0, 0])\n",
    "        vector_2 = np.array([4, 5])\n",
    "        array_vectors = [vector_1, vector_2]\n",
    "        expected_result = 'Длины не равны'\n",
    "        result = sum_prod(array_matrixes, array_vectors)\n",
    "        self.assertTrue(np.array_equal(result, expected_result))\n",
    "\n",
    "if __name__ == '__main__':\n",
    "    unittest.main(argv=['first-arg-is-ignored'], exit=False)"
   ]
  },
  {
   "cell_type": "markdown",
   "metadata": {
    "id": "TKwPG4fIy2w4"
   },
   "source": [
    "<h1>Задача 2. Дана матрица M, напишите функцию, которая бинаризует матрицу по некоторому threshold (то есть, все значения большие threshold становятся равными 1, иначе 0). Напишите тесты для кода"
   ]
  },
  {
   "cell_type": "code",
   "execution_count": 8,
   "metadata": {
    "id": "KQDNMgsjRNH7"
   },
   "outputs": [
    {
     "name": "stderr",
     "output_type": "stream",
     "text": [
      ".........\n",
      "----------------------------------------------------------------------\n",
      "Ran 9 tests in 0.007s\n",
      "\n",
      "OK\n"
     ]
    }
   ],
   "source": [
    "import numpy as np\n",
    "import unittest\n",
    "\n",
    "def binarize(M: np.ndarray, threshold=0.5):\n",
    "    for i in range(len(M[:, 0])):\n",
    "        for j in range(len(M[0, :])):\n",
    "            if M[i, j] > threshold:\n",
    "                M[i, j] = 1\n",
    "            else:\n",
    "                M[i, j] = 0\n",
    "    return M\n",
    "\n",
    "class TestBinarize(unittest.TestCase):\n",
    "    def test_binarize(self):\n",
    "        matrix_1 = np.array([[1, 2, 3], [3, 4, 5], [6, 7, 8], [9, 10, 11]])\n",
    "        funck = binarize(matrix_1)\n",
    "        result = np.array([[1, 1, 1], [1, 1, 1], [1, 1, 1], [1, 1, 1]])\n",
    "        self.assertTrue(np.array_equal(funck, result))\n",
    "        \n",
    "    def test_all_zeros(self):\n",
    "        matrix_1 = np.zeros((5, 5))\n",
    "        funck = binarize(matrix_1)\n",
    "        result = np.zeros((5, 5))\n",
    "        self.assertTrue(np.array_equal(funck, result))\n",
    "    \n",
    "    def test_threshold_6(self):\n",
    "        matrix_1 = np.array([[1, 2, 3], [3, 4, 5], [6, 7, 8], [9, 10, 11]])\n",
    "        funck = binarize(matrix_1, threshold=6)\n",
    "        result = np.array([[0, 0, 0], [0, 0, 0], [0, 1, 1], [1, 1, 1]])\n",
    "        self.assertTrue(np.array_equal(funck, result))\n",
    "\n",
    "if __name__ == '__main__':\n",
    "    unittest.main(argv=['first-arg-is-ignored'], exit=False)"
   ]
  },
  {
   "cell_type": "markdown",
   "metadata": {
    "id": "IY5L-h-7zWhN"
   },
   "source": [
    "<h1>Задача 3. Напишите функцию, которая возвращает уникальные элементы из каждой строки матрицы. Напишите такую же функцию, но для столбцов. Напишите тесты для кода"
   ]
  },
  {
   "cell_type": "code",
   "execution_count": 9,
   "metadata": {
    "id": "-8dEZhR0SBC-"
   },
   "outputs": [
    {
     "name": "stdout",
     "output_type": "stream",
     "text": [
      "Уникальные числа в 1 строке: 2 3\n",
      "Уникальные числа в 2 строке: 3 6 7\n",
      "Уникальные числа в 3 строке: 2 7\n",
      "Уникальные числа в 4 строке: 2 3\n",
      "Уникальные числа в 1 столбце: 2 3 7\n",
      "Уникальные числа в 2 столбце: 3 6 7\n",
      "Уникальные числа в 3 столбце: 2 3\n"
     ]
    }
   ],
   "source": [
    "\n",
    "import numpy as np\n",
    "import unittest\n",
    "\n",
    "mat = np.array([[2, 3, 2], [7, 6, 3], [2, 7, 2], [3, 3, 2]])\n",
    "\n",
    "def unique_rows(mat):\n",
    "    row_list = []\n",
    "    for i in range(len(mat)):\n",
    "        row_list.append(list(mat[i, :]))\n",
    "    spicok = []\n",
    "    # Добавляем в список spicok уникальные элементы из строк матрицы\n",
    "    for i in range(len(row_list)):\n",
    "        spicok.append(list(set(row_list[i])))\n",
    "    # Выводим уникальные числа в строке\n",
    "    for i in range(len(spicok)):\n",
    "        print('Уникальные числа в ' + str(i + 1) +' строке: ' + ' '.join(map(str, spicok[i])))\n",
    "\n",
    "def unique_columns(mat):\n",
    "    columns_list = []\n",
    "    for i in range(len(mat[0, :])):\n",
    "        columns_list.append(list(mat[:, i]))\n",
    "    spicok = []\n",
    "    # Добавляем в список spicok уникальные элементы из столбцов матрицы\n",
    "    for i in range(len(columns_list)):\n",
    "        spicok.append(list(set(columns_list[i])))\n",
    "    # Выводим уникальные числа в столбце\n",
    "    for i in range(len(spicok)):\n",
    "        print('Уникальные числа в ' + str(i + 1) +' столбце: ' + ' '.join(map(str, spicok[i])))   \n",
    "        \n",
    "unique_rows(mat)\n",
    "unique_columns(mat)"
   ]
  },
  {
   "cell_type": "markdown",
   "metadata": {
    "id": "roYAlo4Jz-lH"
   },
   "source": [
    "<h1>Задача 4. Напишите функцию, которая заполняет матрицу с размерами $(m, n)$ случайными числами, распределенными по нормальному закону. Затем считает мат. ожидание и дисперсию для каждого из столбцов и строк, а также строит для каждой строки и столбца гистограмму значений (использовать функцию hist из модуля matplotlib.plot)"
   ]
  },
  {
   "cell_type": "code",
   "execution_count": 10,
   "metadata": {
    "id": "nZK_71hMSQzv"
   },
   "outputs": [
    {
     "data": {
      "image/png": "[encoded data removed]",
      "text/plain": [
       "<Figure size 1000x1000 with 7 Axes>"
      ]
     },
     "metadata": {},
     "output_type": "display_data"
    }
   ],
   "source": [
    "import matplotlib.pyplot as plt\n",
    "import numpy as np\n",
    "\n",
    "# Заполненяем матрицу случайными числами, распределенными по нормальному закону, где sred - среднее значение, stand - стандартное отклонение\n",
    "\n",
    "def mat_normal(i, j, sred=0, stand=1):\n",
    "    mat = np.random.normal(sred, stand, (i, j))\n",
    "    return mat\n",
    "\n",
    "def mat_waiting(mat):\n",
    "    # Мат. ожидания для строк \n",
    "    row = [float(np.mean(mat[:, i])) for i in range(len(mat[0, :]))]\n",
    "    # Мат. ожидания для столбцов \n",
    "    columns = [float(np.mean(mat[i, :])) for i in range(len(mat[:, 0]))]\n",
    "    return row, columns\n",
    "\n",
    "def dispersed(matrix):\n",
    "    # Дисперсия для строк \n",
    "    row = [float(np.var(matrix[:, i])) for i in range(len(matrix[0, :]))]\n",
    "    # Дисперсия для столбцов\n",
    "    colums = [float(np.var(matrix[i, :])) for i in range(len(matrix[:, 0]))]\n",
    "    return row, colums\n",
    "\n",
    "def plot_histograms(matrix):\n",
    "    rows, colums = matrix.shape\n",
    "    \n",
    "    # Построение гистограмм для строк\n",
    "    plt.figure(figsize=(10, 10))\n",
    "    for i in range(rows):\n",
    "        plt.subplot(rows, 2, 2*i+1) \n",
    "        plt.hist(matrix[i, :], bins=10, color='skyblue', edgecolor='black')\n",
    "        plt.title(f'Строка {i+1}')\n",
    "        plt.ylim(0, 4)\n",
    "    # Построение гистограмм для столбцов\n",
    "    for j in range(colums):\n",
    "        plt.subplot(rows, 2, 2*(j)+2)\n",
    "        plt.hist(matrix[:, j], bins=10, color='lightgreen', edgecolor='black')\n",
    "        plt.title(f'Столбец {j+1}')\n",
    "        plt.ylim(0, 4)\n",
    "    plt.tight_layout()\n",
    "    plt.show()\n",
    "\n",
    "matrix = mat_normal(5, 2)\n",
    "plot_histograms(matrix)"
   ]
  },
  {
   "cell_type": "markdown",
   "metadata": {
    "id": "BDyATNdM0dJ2"
   },
   "source": [
    "<h1>Задача 5. Напишите функцию, которая заполняет матрицу $(m, n)$ в шахматном порядке заданными числами $a$ и $b$. Напишите тесты для кода"
   ]
  },
  {
   "cell_type": "code",
   "execution_count": 12,
   "metadata": {
    "id": "RWNJYWQGecS6"
   },
   "outputs": [
    {
     "name": "stderr",
     "output_type": "stream",
     "text": [
      "......\n",
      "----------------------------------------------------------------------\n",
      "Ran 6 tests in 0.010s\n",
      "\n",
      "OK\n"
     ]
    }
   ],
   "source": [
    "import numpy as np\n",
    "import unittest\n",
    "\n",
    "def chess(m: int, n: int, a=1, b=0):\n",
    "    #Создаем матрицу из единиц размером m на n\n",
    "    matrix_with_ones = np.ones((m, n))\n",
    "    #Идем по длине столбца\n",
    "    for i in range(len(matrix_with_ones[:, 0])):\n",
    "        #Идем по длине строки\n",
    "        for j in range(len(matrix_with_ones[0, :])):\n",
    "            #Проверка на четность ширины матрицы\n",
    "            if len(matrix_with_ones[0,:]) % 2 == 0:\n",
    "                #Проверка условия по индексам матрицы\n",
    "                if i % 2 == 0 and j % 2 == 0: \n",
    "                    matrix_with_ones[i, j] = a\n",
    "                elif i % 2 == 0 and j % 2 != 0:\n",
    "                    matrix_with_ones[i, j] = b\n",
    "                elif i % 2 != 0 and j % 2 == 0:\n",
    "                    matrix_with_ones[i, j] = b\n",
    "                else:\n",
    "                    matrix_with_ones[i, j] = a\n",
    "            else:\n",
    "                if i % 2 == 0 and j % 2 == 0:\n",
    "                    matrix_with_ones[i, j] = b\n",
    "                elif i % 2 == 0 and j % 2!= 0:\n",
    "                    matrix_with_ones[i, j] = a\n",
    "                elif i % 2!= 0 and j % 2 == 0:\n",
    "                    matrix_with_ones[i, j] = a\n",
    "                else:\n",
    "                    matrix_with_ones[i, j] = b\n",
    "\n",
    "    return matrix_with_ones\n",
    "class TestClass(unittest.TestCase):\n",
    "    #Тест для квадратной матрицы\n",
    "    def test_chess_width_chet(self):\n",
    "        self.assertTrue(np.array_equal(chess(3, 3), np.array([[0, 1, 0], [1, 0, 1], [0, 1, 0]])))\n",
    "        self.assertTrue(np.array_equal(chess(3, 3, 0, 2), np.array([[2, 0, 2], [0, 2, 0], [2, 0, 2]])))\n",
    "        self.assertTrue(np.array_equal(chess(3, 3, 2, 0), np.array([[0, 2, 0], [2, 0, 2], [0, 2, 0]])))\n",
    "        self.assertTrue(np.array_equal(chess(3, 3, 0, 0), np.array([[0, 0, 0], [0, 0, 0], [0, 0, 0]])))\n",
    "    \n",
    "    #Тест для квадратной матрицы с четными и нечетными размерами\n",
    "    def test_chess_width_nechet(self):\n",
    "        self.assertTrue(np.array_equal(chess(3, 4), np.array([[1, 0, 1, 0], [0, 1, 0, 1], [1, 0, 1, 0]])))\n",
    "        self.assertTrue(np.array_equal(chess(4, 3, 0, 2), np.array([[2, 0, 2], [0, 2, 0], [2, 0, 2], [0, 2, 0]])))\n",
    "        self.assertTrue(np.array_equal(chess(3, 4, 2, 0), np.array([[2, 0, 2, 0], [0, 2, 0, 2], [2, 0, 2, 0]])))\n",
    "        \n",
    "\n",
    "if __name__ == '__main__':\n",
    "    unittest.main(argv=['first-arg-is-ignored'], exit=False)"
   ]
  },
  {
   "cell_type": "markdown",
   "metadata": {
    "id": "-ymXLtTN0vB6"
   },
   "source": [
    "<h1>Задача 6. Напишите функцию, которая отрисовывает прямоугольник с заданными размерами (a, b) на изображении размера (m, n), цвет фона задайте в схеме RGB, как и цвет прямоугольника. Цвета также должны быть параметрами функции. Напишите аналогичную функцию но для овала с полуосями a и b. Напишите тесты для кода.\n",
    "Примечание: уравнение эллипса (границы овала) можно записать как:\n",
    "<h1>$\\frac{(x-x_0)^2}{a^2}+\\frac{(y-y_0)^2}{b^2}=1$"
   ]
  },
  {
   "cell_type": "code",
   "execution_count": 13,
   "metadata": {
    "id": "sNfl1t_kfOF4"
   },
   "outputs": [
    {
     "data": {
      "image/png": "[encoded data removed]",
      "text/plain": [
       "<Figure size 640x480 with 1 Axes>"
      ]
     },
     "metadata": {},
     "output_type": "display_data"
    },
    {
     "data": {
      "image/png": "[encoded data removed]",
      "text/plain": [
       "<Figure size 640x480 with 1 Axes>"
      ]
     },
     "metadata": {},
     "output_type": "display_data"
    }
   ],
   "source": [
    "import numpy as np\n",
    "import matplotlib.pyplot as plt\n",
    "\n",
    "def draw_rectangle(a, b, m, n, rectangle_color, background_color):\n",
    "    # Создаем изображение с фоновым цветом\n",
    "    image = np.ones((m, n, 3), dtype=np.uint8)\n",
    "    image[:, :] = background_color  \n",
    "    # Рассчитаем координаты для прямоугольника\n",
    "    x = (n - a) // 2  \n",
    "    y = (m - b) // 2  \n",
    "    # Рисуем прямоугольник\n",
    "    image[y:y + b, x:x + a] = rectangle_color\n",
    "    # Отображаем изображение\n",
    "    plt.imshow(image)\n",
    "    plt.axis('off')  \n",
    "    plt.show()\n",
    "\n",
    "def draw_ellipse(a, b, m, n, ellipse_color, background_color):\n",
    "    # Аналогично\n",
    "    image = np.ones((m, n, 3), dtype=np.uint8)\n",
    "    image[:, :] = background_color  \n",
    "    x0 = n // 2\n",
    "    y0 = m // 2\n",
    "    # Создание сетки координат\n",
    "    y, x = np.ogrid[:m, :n]   \n",
    "    # Уравнение эллипса\n",
    "    el = ((x - x0)**2 / a**2 + (y - y0)**2 / b**2) <= 1\n",
    "    # Применяем цвет эллипса\n",
    "    image[el] = ellipse_color\n",
    "    # Отображаем изображение\n",
    "    plt.imshow(image)\n",
    "    plt.axis('off')  # Отключаем оси\n",
    "    plt.show()\n",
    "\n",
    "if __name__ == \"__main__\":\n",
    "    draw_rectangle(50, 100, 200, 300, rectangle_color=(0, 0, 0), background_color=(255, 255, 255))\n",
    "    draw_ellipse(50, 100, 200, 300, ellipse_color=(0, 0, 255), background_color=(255, 255, 255))"
   ]
  },
  {
   "cell_type": "markdown",
   "metadata": {
    "id": "S82c38oz244H"
   },
   "source": [
    "<h1>Задача 7. Дан некий временной ряд. Для данного ряда нужно найти его: математическое ожидание, дисперсию, СКО, найти все локальные максимумы и минимумы (локальный максимум - это точка, которая больше своих соседних точек, а локальный минимум - это точка, которая меньше своих соседей), а также вычислить для данного ряда другой ряд, получаемый методом скользящего среднего с размером окна $p$.\n",
    "<h1>Примечание: метод скользящего среднего подразумевает нахождение среднего из подмножетсва ряда размером $p$"
   ]
  },
  {
   "cell_type": "code",
   "execution_count": 14,
   "metadata": {
    "id": "Zb9mIVge5MMt"
   },
   "outputs": [
    {
     "name": "stdout",
     "output_type": "stream",
     "text": [
      "Математическое ожидание: 3.8333333333333335\n",
      "Дисперсия: 3.805555555555556\n",
      "СКО: 1.950783318453271\n",
      "Локальные максимумы: [1, 3]\n",
      "Локальные минимумы: [2]\n",
      "Скользящее среднее (p=10): [2.3 2.3 2.3 2.3 2.3]\n"
     ]
    }
   ],
   "source": [
    "import numpy as np\n",
    "\n",
    "def F(n):\n",
    "    # Вычисление математического ожидания, дисперсии и СКО\n",
    "    mat_wait = np.mean(n) \n",
    "    disper = np.var(n) \n",
    "    sko = np.std(n) #СКО\n",
    "    \n",
    "    return mat_wait, disper, sko\n",
    "\n",
    "def local_extrem(n):\n",
    "    local_max = []\n",
    "    local_min = []\n",
    "    # Проверка на локальные максимумы и минимумы\n",
    "    for i in range(1, len(n) - 1):      \n",
    "        if n[i] > n[i - 1] and n[i] > n[i + 1]:\n",
    "            local_max.append(i)\n",
    "        if n[i] < n[i - 1] and n[i] < n[i + 1]:\n",
    "            local_min.append(i)\n",
    "    \n",
    "    return local_max, local_min\n",
    "\n",
    "# Cкользящеt среднее\n",
    "def sred(n, p):\n",
    "    avearge = np.convolve(n, np.ones(p)/p, mode='valid')\n",
    "    return avearge\n",
    "\n",
    "spicok = [4, 5, 2, 7, 4, 1]\n",
    "mat_wait, desper, sko = F(spicok)\n",
    "print(f\"Математическое ожидание: {mat_wait}\")\n",
    "print(f\"Дисперсия: {desper}\")\n",
    "print(f\"СКО: {sko}\")\n",
    "local_max, local_min = local_extrem(spicok)\n",
    "print(f\"Локальные максимумы: {local_max}\")\n",
    "print(f\"Локальные минимумы: {local_min}\")\n",
    "p = 10\n",
    "sredni = sred(spicok, p)\n",
    "print(f\"Скользящее среднее (p={p}): {sredni}\")"
   ]
  },
  {
   "cell_type": "markdown",
   "metadata": {
    "id": "jPkylmOX5O9n"
   },
   "source": [
    "<h1> Задача 8. Дан некоторый вектор с целочисленными метками классов, напишите функцию, которая выполняет one-hot-encoding для данного вектора\n",
    "<h1> One-hot-encoding - представление, в котором на месте метки некоторого класса стоит 1, в остальных позициях стоит 0. Например для вектора [0, 2, 3, 0] one-hot-encoding выглядит как: [[1, 0, 0, 0], [0, 0, 1, 0], [0, 0, 0, 1], [1, 0, 0, 0]]"
   ]
  },
  {
   "cell_type": "code",
   "execution_count": 15,
   "metadata": {
    "id": "Y-jlnZvw56lD"
   },
   "outputs": [
    {
     "name": "stdout",
     "output_type": "stream",
     "text": [
      "[[0 1 0 0 0 0 0]\n",
      " [0 0 0 0 0 0 1]\n",
      " [0 0 0 1 0 0 0]\n",
      " [0 0 1 0 0 0 0]]\n"
     ]
    }
   ],
   "source": [
    "import numpy as np\n",
    "\n",
    "def Unic(n):\n",
    "    # Находим количество уникальных классов \n",
    "    num_classes = np.max(n) + 1\n",
    "    \n",
    "    # Создаем двумерный массив с нулями и заполняем его one-hot представлением\n",
    "    one_hot = np.zeros((len(n), num_classes), dtype=int)\n",
    "    \n",
    "    # Проставляем 1 в соответствующих позициях\n",
    "    for i, j in enumerate(n):\n",
    "        one_hot[i, j] = 1\n",
    "    \n",
    "    return one_hot\n",
    "\n",
    "print( Unic([1, 6, 3, 2]))\n",
    "     "
   ]
  }
 ],
 "metadata": {
  "colab": {
   "provenance": []
  },
  "kernelspec": {
   "display_name": "Python 3",
   "name": "python3"
  },
  "language_info": {
   "codemirror_mode": {
    "name": "ipython",
    "version": 3
   },
   "file_extension": ".py",
   "mimetype": "text/x-python",
   "name": "python",
   "nbconvert_exporter": "python",
   "pygments_lexer": "ipython3",
   "version": "3.12.6"
  }
 },
 "nbformat": 4,
 "nbformat_minor": 0
}
