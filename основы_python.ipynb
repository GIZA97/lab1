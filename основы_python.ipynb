{
  "cells": [
    {
      "cell_type": "markdown",
      "metadata": {
        "id": "M-DGa20PaHnu"
      },
      "source": [
        "#Задача 1\n",
        "Написать функцию на вход которой подается строка, состоящая из латинских букв.\n",
        "Функция должна вернуть количество гласных букв (a, e, i, o, u) в этой строке. Написать тесты для кода"
      ]
    },
    {
      "cell_type": "code",
      "execution_count": null,
      "metadata": {
        "id": "XvX8X_JJ6PCb"
      },
      "outputs": [],
      "source": [
        "# Your code goes here\n",
        "import unittest\n",
        "def F(n):\n",
        "    vowels = 'aeiou'\n",
        "    count = 0\n",
        "    # Берём одну буву из гласных, ищем сколько раз она встречается и прибавляем к переменной count, возвращаем сумму количеств гласных.\n",
        "    for i in vowels.lower():\n",
        "        count +=  n.count(i)\n",
        "    return count\n",
        "class Test(unittest.TestCase):\n",
        "    def test(self):\n",
        "        self.assertEqual(F('tiger'), 2)\n",
        "        self.assertEqual(F('maksimus'), 3)\n",
        "        self.assertEqual(F('minimus'), 3)\n",
        "        \n",
        "if __name__ == '__main__':\n",
        "    unittest.main()\n"
      ]
    },
    {
      "cell_type": "markdown",
      "metadata": {
        "id": "t2ClV_Y0bbr6"
      },
      "source": [
        "# Задача 2\n",
        "Написать функцию на вход, которой подается строка. Функция должна вернуть true, если\n",
        "каждый символ в строке встречается только 1 раз, иначе должна вернуть false. Написать тесты для кода"
      ]
    },
    {
      "cell_type": "code",
      "execution_count": null,
      "metadata": {
        "id": "FppbECao6VIz"
      },
      "outputs": [],
      "source": [
        "\n",
        "# Your code goes here\n",
        "import unittest\n",
        "def F(n):\n",
        "    \n",
        "    count = 0\n",
        "    booling = True\n",
        "    # Берём каждое значение, ищем сколько раз оно встречается, если больше одного раза в переменую  booling записываем False и выходим из цикла, иначе booling остаётся True, возвращаем значение переменной booling.\n",
        "    for i in n:\n",
        "         \n",
        "        count =  n.count(i)\n",
        "        if count > 1:\n",
        "            booling = False\n",
        "            break\n",
        "        else:\n",
        "            booling = True\n",
        "        count = 0\n",
        "    \n",
        "    return booling\n",
        "\n",
        "\n",
        "class Test(unittest.TestCase):\n",
        "    def test(self):\n",
        "        self.assertEqual(F('tiger'), True)\n",
        "        self.assertEqual(F('maksimus'), False)\n",
        "        self.assertEqual(F('lion'), True)\n",
        "        \n",
        "if __name__ == '__main__':\n",
        "    unittest.main()"
      ]
    },
    {
      "cell_type": "markdown",
      "metadata": {
        "id": "udRiIK1cdt6E"
      },
      "source": [
        "# Задача 3\n",
        "Написать функцию, которая принимает положительное число и возвращает количество\n",
        "бит равных 1 в этом числе. Написать тесты для кода"
      ]
    },
    {
      "cell_type": "code",
      "execution_count": null,
      "metadata": {
        "id": "6tkfDJRz6dp_"
      },
      "outputs": [],
      "source": [
        "# Your code goes here\n",
        "import unittest\n",
        "def F(n):\n",
        "    # Преобразуем число из десятиричной системы счисления в двоичную, проверяем каждый элемент в двоичной системе, если он равен единице, то прибавляем единицу к счётчику, возвращаем количество бит равных 1. \n",
        "    bin_num = bin(n)[2:]\n",
        "    count = 0\n",
        "    for i in bin_num:\n",
        "        if i == \"1\":\n",
        "            count += 1\n",
        "    \n",
        "    return count\n",
        "\n",
        "\n",
        "class Test(unittest.TestCase):\n",
        "    def test(self):\n",
        "        self.assertEqual(F(89), 4)\n",
        "        self.assertEqual(F(48), 2)\n",
        "        self.assertEqual(F(1), 1)\n",
        "        \n",
        "if __name__ == '__main__':\n",
        "    unittest.main()"
      ]
    },
    {
      "cell_type": "markdown",
      "metadata": {
        "id": "26dDUz-Ae17N"
      },
      "source": [
        "# Задача 4\n",
        "Написать функцию, которая принимает положительное число. Функция должна вернуть то,\n",
        "сколько раз необходимо перемножать цифры числа или результат перемножения, чтобы\n",
        "получилось число состоящее из одной цифры.\n",
        "Например, для входного числа:\n",
        "· 39 функция должна вернуть 3, так как 3*9=27 => 2*7=14 => 1*4=4\n",
        "· 4 функция должна вернуть 0, так как число уже состоит из одной цифры\n",
        "· 999 функция должна вернуть 4, так как 9*9*9=729 => 7*2*9=126 => 1*2*6=12 =>\n",
        "1*2=2. Написать тесты для кода"
      ]
    },
    {
      "cell_type": "code",
      "execution_count": null,
      "metadata": {
        "id": "BH1A_Mgi6i4G"
      },
      "outputs": [],
      "source": [
        "import unittest\n",
        "def magic(n):\n",
        "    \n",
        "    num = str(n)\n",
        "    s = 0\n",
        "    if len(num) == 1:\n",
        "        return 0\n",
        "    else:\n",
        "        while len(num) != 1:\n",
        "            count = 1\n",
        "            for i in num:\n",
        "                count *= int(i)\n",
        "            num = str(count)\n",
        "            s += 1   \n",
        "    return s\n",
        "\n",
        "class Test(unittest.TestCase):\n",
        "    def test(self):\n",
        "        self.assertEqual(magic(999), 4)\n",
        "        self.assertEqual(magic(39), 3)\n",
        "        self.assertEqual(magic(9), 0)\n",
        "        \n",
        "if __name__ == '__main__':\n",
        "    unittest.main()\n",
        "    "
      ]
    },
    {
      "cell_type": "markdown",
      "metadata": {
        "id": "0nS-kIa8g8vd"
      },
      "source": [
        "# Задача 5\n",
        "Написать функцию, которая принимает два целочисленных вектора одинаковой длины и\n",
        "возвращает среднеквадратическое отклонение двух векторов. Написать тесты для кода"
      ]
    },
    {
      "cell_type": "code",
      "execution_count": null,
      "metadata": {
        "id": "8iphx4LM6xbx"
      },
      "outputs": [],
      "source": [
        "\n",
        "import unittest\n",
        "\n",
        "def mse(pred, true):\n",
        "    # Высчитываем сумму квадратов разности чисел от 2 векторов и делим на длину вектора \n",
        "    delta = [(x - y) ** 2 for x, y in zip(pred, true)]\n",
        "    result = (sum(delta) / len(pred)) ** 0.5\n",
        "    return int(result)\n",
        "\n",
        "\n",
        "class Test(unittest.TestCase):\n",
        "    def test(self):\n",
        "        self.assertEqual(mse([5, 3, 4], [5, 3, 4]), 0)\n",
        "        self.assertEqual(mse([2, 1, 0], [2, 1, 0]), 0)\n",
        "        self.assertEqual(mse([1, 2, 3], [1, 2, -3]), 3)\n",
        "        \n",
        "if __name__ == '__main__':\n",
        "    unittest.main()\n"
      ]
    },
    {
      "cell_type": "markdown",
      "metadata": {
        "id": "vpIPKL439zkw"
      },
      "source": [
        "# Задача 6\n",
        "Написать функцию, принимающая целое положительное число. Функция должна вернуть\n",
        "строку вида “(n1**p1)(n2**p2)…(nk**pk)” представляющая разложение числа на простые\n",
        "множители (если pi == 1, то выводить только ni).\n",
        "Например, для числа 86240 функция должна вернуть “(2**5)(5)(7**2)(11)”. Написать тесты для кода"
      ]
    },
    {
      "cell_type": "code",
      "execution_count": null,
      "metadata": {
        "id": "pFebmcZk94Jw"
      },
      "outputs": [],
      "source": [
        "from collections import Counter\n",
        "\n",
        "def F(n):\n",
        "    # Проверяем, если число равно 0, то возвращаем 0\n",
        "    if n == 0:\n",
        "        return 0\n",
        "    spicok = []\n",
        "    # Получаем все простые делители\n",
        "    delitel = get_primes(n)\n",
        "    # Делим число n на делители и добавяем в список все подходящие делители\n",
        "    for i in delitel:\n",
        "        while n % i == 0 :\n",
        "            n = n / i\n",
        "            spicok.append(i)\n",
        "    # Выводим полученный результат в заданном формате    \n",
        "    count = Counter(spicok)\n",
        "    for i in delitel:\n",
        "        if count[i] != 0 and count[i] != 1:\n",
        "            print(f\"({i}**{count[i]})\", end=\"\")\n",
        "        elif count[i] == 1 and count[i] != 0: \n",
        "            print(f\"({i})\", end=\"\")\n",
        "\n",
        "# Функция для вычисления простых числел, до указаного\n",
        "def N(n):\n",
        "    s1 = [True] * n\n",
        "    s2 = []\n",
        "    for i in range(2, n):\n",
        "        if s1[i]:\n",
        "            s2.append(i)\n",
        "            for j in range(i * i, n, i):\n",
        "                s1[j] = False\n",
        "    return s2\n"
      ]
    },
    {
      "cell_type": "markdown",
      "metadata": {
        "id": "ps2s0BudX7A2"
      },
      "source": [
        "# Задача 7\n",
        "Написать функцию, принимающая целое число n, задающее количество кубиков. Функция\n",
        "должна определить, можно ли из данного кол-ва кубиков построить пирамиду, то есть\n",
        "можно ли представить число n как 1^2+2^2+3^2+…+k^2. Если можно, то функция должна\n",
        "вернуть k, иначе строку “It is impossible”. Написать тесты для кода"
      ]
    },
    {
      "cell_type": "code",
      "execution_count": null,
      "metadata": {
        "id": "3YPjEXxhX_YT"
      },
      "outputs": [],
      "source": [
        " #Your code goes here\n",
        "from math import *\n",
        "import unittest\n",
        "\n",
        "# Функция для нахождения пирамиды из кубиков\n",
        "def F(n):\n",
        "    spicok = []\n",
        "    ind = []\n",
        "    # Пока сумма квадратов кубиков меньше числа n, добавляем квадраты количества кубиков в массив\n",
        "    for i in range(1, int(sqrt(n))):\n",
        "        while sum(spicok) < n:\n",
        "            spicok.append(i ** 2)\n",
        "            ind.append(i)\n",
        "            i += 1\n",
        "    # Если сумма квадратов количества кубиков равна количеству кубиков, \n",
        "    # то возвращаем кортеж значений: True и последний элемент списка с количеством кубиков\n",
        "    # Иначе возвращаем кортеж: False и надпись It is impossible\n",
        "    if sum(spicok) == n:\n",
        "        return True, ind[-1]\n",
        "    return False, 'It is impossible'\n",
        "\n",
        "# Проверка на нуль и отрицательное число \n",
        "def N(n):\n",
        "    if n == 0: \n",
        "        return 'It is impossible'\n",
        "    if n < 0: \n",
        "        return 'It is impossible'\n",
        "    if F(n)[0] == True:\n",
        "        return F(n)[1]\n",
        "    return F(n)[1]\n",
        "\n",
        "class TestClass(unittest.TestCase):\n",
        "    def test_on_right_val(self):\n",
        "        self.assertEqual(N(0), 'It is impossible')\n",
        "        self.assertEqual(N(-1), 'It is impossible')\n",
        "        self.assertEqual(N(55), 5)\n",
        "       \n",
        "        \n",
        "\n",
        "if __name__ == '__main__':\n",
        "    unittest.main()"
      ]
    },
    {
      "cell_type": "markdown",
      "metadata": {
        "id": "KeKgmIdAQMEJ"
      },
      "source": [
        "# Задача 8\n",
        "Функция принимает на вход положительное число и определяет является ли оно сбалансированным, т.е. сумма цифр до средних равна сумме цифр после. Средними в случае нечетного числа цифр считать одну цифру, в случае четного - две средних. Написать тесты для кода"
      ]
    },
    {
      "cell_type": "code",
      "execution_count": null,
      "metadata": {
        "id": "gMAAqtqlQrZt"
      },
      "outputs": [],
      "source": [
        "import unittest\n",
        "\n",
        "def F(n):\n",
        "    if n > 0: \n",
        "        # Если число цифр четное, то по отдельности находим сумму цифр первой половины и второй половины числа если суммы цифр равны, возвращаем строку 'Cбалансировано', иначе 'Не сбалансировано'      \n",
        "        if len(str(n)) % 2 == 0:\n",
        "            half_len = int(len(str(n)) / 2)\n",
        "            suma1 = sum(int(i) for i in str(n)[:half_len])\n",
        "            suma2 = sum(int(i) for i in str(n)[half_len:])\n",
        "            if suma1 == suma2:\n",
        "                return 'Cбалансировано'\n",
        "            return 'Не сбалансировано'\n",
        "        else:\n",
        "        # Аналогично, но учитывая цифру по середине \n",
        "            half_len = int((len(str(n))) / 2)\n",
        "            suma1 = sum(int(i) for i in str(n)[:half_len+1])\n",
        "            suma2 = sum(int(i) for i in str(n)[half_len:])\n",
        "            if suma1 == suma2:\n",
        "                return 'Cбалансировано'\n",
        "            return 'Не сбалансировано'\n",
        "\n",
        "class Test(unittest.TestCase):\n",
        "    def test_num_balance(self):\n",
        "        self.assertEqual(F(1212), 'Cбалансировано')\n",
        "        self.assertEqual(F(98089), 'Cбалансировано')\n",
        "        self.assertEqual(F(64587649576), 'Не сбалансировано')\n",
        "if __name__ == '__main__':\n",
        "    unittest.main()"
      ]
    }
  ],
  "metadata": {
    "colab": {
      "provenance": []
    },
    "kernelspec": {
      "display_name": "Python 3",
      "name": "python3"
    },
    "language_info": {
      "name": "python"
    }
  },
  "nbformat": 4,
  "nbformat_minor": 0
}
